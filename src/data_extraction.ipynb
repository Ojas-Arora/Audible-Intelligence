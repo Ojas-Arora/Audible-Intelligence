{
 "cells": [
  {
   "cell_type": "markdown",
   "id": "fca283b8",
   "metadata": {},
   "source": [
    "# Division of files according to their particular labels"
   ]
  },
  {
   "cell_type": "code",
   "execution_count": null,
   "id": "e7db66d5",
   "metadata": {
    "vscode": {
     "languageId": "plaintext"
    }
   },
   "outputs": [],
   "source": [
    "def move_files_with_prefix(source_dir, prefix):\n",
    "    dest_folder = os.path.join(source_dir, prefix)  # data/tram ke andar gya\n",
    "    os.makedirs(dest_folder, exist_ok=True)   # folder banaya\n",
    "\n",
    "    for filename in os.listdir(source_dir):\n",
    "        file_path = os.path.join(source_dir, filename)    # data/file1.wav\n",
    "\n",
    "        if os.path.isfile(file_path) and filename.startswith(prefix):\n",
    "            shutil.move(file_path, os.path.join(dest_folder, filename))\n",
    "            print(f\"Moved: {filename} --> {dest_folder}\")\n",
    "\n",
    "source_directory = 'data'\n",
    "prefix = ' ' # name of particular label\n",
    "move_files_with_prefix(source_directory, prefix)\n"
   ]
  },
  {
   "cell_type": "markdown",
   "id": "636f8281",
   "metadata": {},
   "source": [
    "# Creation of mel-spectogram images with image size(224,224)"
   ]
  },
  {
   "cell_type": "code",
   "execution_count": null,
   "id": "d8b8aa3a",
   "metadata": {
    "vscode": {
     "languageId": "plaintext"
    }
   },
   "outputs": [],
   "source": [
    "folder_path = 'data/label-name'\n",
    "\n",
    "all_files = [f for f in os.listdir(folder_path) if f.endswith(('.wav'))]\n",
    "\n",
    "for i in range(0,len(all_files)):\n",
    "    file = os.path.join(folder_path, all_files[i])\n",
    "    el,sr = librosa.load(file)\n",
    "    mel = librosa.feature.melspectrogram(y=el, sr=sr, n_fft=2048, hop_length=512, n_mels=90)\n",
    "    log_mel = librosa.power_to_db(mel)\n",
    "\n",
    "    os.makedirs('data/label-name_image', exist_ok=True)\n",
    "\n",
    "    plt.figure(figsize=(2.24, 2.24), dpi=100)\n",
    "    plt.axis('off')\n",
    "    librosa.display.specshow(log_mel, sr=sr, hop_length=512, cmap='viridis')\n",
    "    output_path = os.path.join('data/label-name_image', all_files[i].replace('.wav', '.png'))\n",
    "    plt.savefig(output_path, bbox_inches='tight', pad_inches=0)\n",
    "    plt.close()\n",
    "    print(f\"{i} done\")\n"
   ]
  },
  {
   "cell_type": "markdown",
   "id": "9318d9e4",
   "metadata": {},
   "source": [
    "# Dividing the data to test and train"
   ]
  },
  {
   "cell_type": "code",
   "execution_count": null,
   "id": "065012d8",
   "metadata": {
    "vscode": {
     "languageId": "plaintext"
    }
   },
   "outputs": [],
   "source": [
    "def split(source_dir, test_dir, test_ratio = 0.2):\n",
    "    os.makedirs(test_dir, exist_ok=True)\n",
    "\n",
    "    for label_folder in os.listdir(source_dir):\n",
    "        label_path = os.path.join(source_dir, label_folder)   # data/label-name\n",
    "\n",
    "        if os.path.isdir(label_path):\n",
    "            dest_label_path = os.path.join(test_dir, label_folder)   # test/label-name\n",
    "            os.makedirs(dest_label_path, exist_ok=True)\n",
    "\n",
    "            all_files = [f for f in os.listdir(label_path) if os.path.isfile(os.path.join(label_path, f))]\n",
    "            test_count = max(1, math.ceil(len(all_files)*test_ratio))   \n",
    "\n",
    "            test_file = random.sample(all_files, min(test_count, len(all_files)))  \n",
    "\n",
    "            for file in test_file:\n",
    "                src = os.path.join(label_path, file) # data/label-name/file\n",
    "                dst = os.path.join(dest_label_path, file) # test/label-name/file\n",
    "                shutil.move(src, dst)\n",
    "                print(f\"Copied: {file} --> {dest_label_path}\")\n",
    "\n",
    "source_directory = 'data'\n",
    "test_directory = 'test'\n",
    "split(source_directory, test_directory, test_ratio=0.2)"
   ]
  }
 ],
 "metadata": {
  "language_info": {
   "name": "python"
  }
 },
 "nbformat": 4,
 "nbformat_minor": 5
}
