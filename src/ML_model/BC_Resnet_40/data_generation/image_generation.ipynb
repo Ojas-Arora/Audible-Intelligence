{
 "cells": [
  {
   "cell_type": "code",
   "execution_count": null,
   "id": "a5e29a2d-5855-42eb-aa2c-ecf224967b89",
   "metadata": {},
   "outputs": [],
   "source": [
    "import os\n",
    "import librosa\n",
    "import numpy as np\n",
    "import librosa.display\n",
    "import matplotlib.pyplot as plt\n",
    "\n",
    "folder_path = 'airport'\n",
    "all_files = [f for f in os.listdir(folder_path) if f.endswith('.wav')]\n",
    "\n",
    "os.makedirs('airport_image_logmel', exist_ok=True)\n",
    "\n",
    "for i in range(len(all_files)):\n",
    "    file = os.path.join(folder_path, all_files[i])\n",
    "    y, sr = librosa.load(file, sr=32000, mono=True)\n",
    "\n",
    "    stft = librosa.stft(y, n_fft=4096, win_length=3072, hop_length=500)\n",
    "    mel = librosa.feature.melspectrogram(S=np.abs(stft)**2, sr=sr, n_mels=256)\n",
    "    log_mel = librosa.power_to_db(mel)\n",
    "\n",
    "    plt.figure(figsize=(2.24, 2.24), dpi=100)\n",
    "    plt.axis('off')\n",
    "    librosa.display.specshow(log_mel, sr=sr, hop_length=500, cmap='viridis', x_axis=None, y_axis=None)\n",
    "    \n",
    "    output_path = os.path.join('airport_image_logmel', all_files[i].replace('.wav', '.png'))\n",
    "    plt.savefig(output_path, bbox_inches='tight', pad_inches=0)\n",
    "    plt.close()\n",
    "    \n",
    "    print(f\"{i} done\")\n"
   ]
  }
 ],
 "metadata": {
  "kernelspec": {
   "display_name": "Python 3 (ipykernel)",
   "language": "python",
   "name": "python3"
  },
  "language_info": {
   "codemirror_mode": {
    "name": "ipython",
    "version": 3
   },
   "file_extension": ".py",
   "mimetype": "text/x-python",
   "name": "python",
   "nbconvert_exporter": "python",
   "pygments_lexer": "ipython3",
   "version": "3.12.0"
  }
 },
 "nbformat": 4,
 "nbformat_minor": 5
}
