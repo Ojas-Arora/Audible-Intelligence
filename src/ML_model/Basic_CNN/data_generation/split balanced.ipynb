{
 "cells": [
  {
   "cell_type": "code",
   "execution_count": null,
   "id": "39cbd61b",
   "metadata": {},
   "outputs": [],
   "source": [
    "import os\n",
    "import random\n",
    "import shutil\n",
    "from collections import defaultdict\n",
    "\n",
    "audio_folder = 'airport_image'  \n",
    "output_folder = 'airport'  \n",
    "target_total_samples = 600\n",
    "devices = ['a', 'b', 'c', 's1', 's2', 's3', 's4', 's5', 's6']\n",
    "target_per_device = target_total_samples // len(devices)\n",
    "\n",
    "os.makedirs(output_folder, exist_ok=True)\n",
    "\n",
    "device_groups = defaultdict(list)\n",
    "all_files = [f for f in os.listdir(audio_folder) if f.endswith('.png')]\n",
    "\n",
    "for file in all_files:\n",
    "    device = file.split('-')[-1].split('.')[0]\n",
    "    print(device)\n",
    "    if device in devices:\n",
    "        device_groups[device].append(file)\n",
    "\n",
    "balanced_files = []\n",
    "\n",
    "for device in devices:\n",
    "    files = device_groups[device]\n",
    "    if len(files) < target_per_device:\n",
    "        raise ValueError(f\"Not enough samples for device '{device}' (needed {target_per_device}, found {len(files)})\")\n",
    "    \n",
    "    sampled = random.sample(files, target_per_device)\n",
    "    balanced_files.extend(sampled)\n",
    "\n",
    "for file in balanced_files:\n",
    "    src = os.path.join(audio_folder, file)\n",
    "    dst = os.path.join(output_folder, file)\n",
    "    shutil.copy(src, dst)\n",
    "\n",
    "print(f\"Total {len(balanced_files)} files copied to '{output_folder}'\")\n"
   ]
  }
 ],
 "metadata": {
  "kernelspec": {
   "display_name": "Python 3 (ipykernel)",
   "language": "python",
   "name": "python3"
  },
  "language_info": {
   "codemirror_mode": {
    "name": "ipython",
    "version": 3
   },
   "file_extension": ".py",
   "mimetype": "text/x-python",
   "name": "python",
   "nbconvert_exporter": "python",
   "pygments_lexer": "ipython3",
   "version": "3.12.0"
  }
 },
 "nbformat": 4,
 "nbformat_minor": 5
}
