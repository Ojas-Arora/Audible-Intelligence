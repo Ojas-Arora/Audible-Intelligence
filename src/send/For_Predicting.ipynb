{
 "cells": [
  {
   "cell_type": "code",
   "execution_count": null,
   "id": "2b92241a-6593-4423-a8a3-b2c740108ef2",
   "metadata": {},
   "outputs": [],
   "source": [
    "import numpy as np\n",
    "import tensorflow as tf\n",
    "import cv2\n",
    "\n",
    "class_names = ['airport_image_logmel', 'bus_image_logmel', 'metro_image_logmel', 'park_image_logmel', 'shopping_mall_image_logmel']  # your class list\n",
    "\n",
    "interpreter = tf.lite.Interpreter(model_path=\"bc_resnet_40_int8.tflite\")\n",
    "interpreter.allocate_tensors()\n",
    "\n",
    "input_details = interpreter.get_input_details()\n",
    "output_details = interpreter.get_output_details()\n",
    "\n",
    "# Prepare input image (uint8 expected for int8 model)\n",
    "img = cv2.imread(\" \")  # Your file\n",
    "img = cv2.cvtColor(img, cv2.COLOR_BGR2RGB)\n",
    "img = cv2.resize(img, (224, 224))\n",
    "\n",
    "# Quantize input image using input scale and zero point\n",
    "input_scale, input_zero_point = input_details[0]['quantization']\n",
    "input_data = img.astype(np.float32) / 255.0  # normalize first if needed\n",
    "input_data = input_data / input_scale + input_zero_point\n",
    "input_data = np.clip(input_data, 0, 255).astype(np.uint8)\n",
    "input_data = np.expand_dims(input_data, axis=0)\n",
    "\n",
    "interpreter.set_tensor(input_details[0]['index'], input_data)\n",
    "interpreter.invoke()\n",
    "\n",
    "# Dequantize output\n",
    "output_data = interpreter.get_tensor(output_details[0]['index'])\n",
    "output_scale, output_zero_point = output_details[0]['quantization']\n",
    "output_float = output_scale * (output_data.astype(np.float32) - output_zero_point)\n",
    "\n",
    "predicted_index = np.argmax(output_float[0])\n",
    "predicted_label = class_names[predicted_index]\n",
    "\n",
    "print(f\"Predicted class: {predicted_label}\")\n"
   ]
  }
 ],
 "metadata": {
  "kernelspec": {
   "display_name": "Python 3 (ipykernel)",
   "language": "python",
   "name": "python3"
  },
  "language_info": {
   "codemirror_mode": {
    "name": "ipython",
    "version": 3
   },
   "file_extension": ".py",
   "mimetype": "text/x-python",
   "name": "python",
   "nbconvert_exporter": "python",
   "pygments_lexer": "ipython3",
   "version": "3.12.0"
  }
 },
 "nbformat": 4,
 "nbformat_minor": 5
}
