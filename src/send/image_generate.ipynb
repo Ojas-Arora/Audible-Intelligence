{
 "cells": [
  {
   "cell_type": "code",
   "execution_count": null,
   "id": "c1d73035-e494-4f36-b955-67afb53a1016",
   "metadata": {},
   "outputs": [
    {
     "name": "stdout",
     "output_type": "stream",
     "text": [
      "Spectrogram saved to output_image.png\n"
     ]
    }
   ],
   "source": [
    "import librosa\n",
    "import librosa.display\n",
    "import matplotlib.pyplot as plt\n",
    "import numpy as np\n",
    "\n",
    "# Set your input and output paths\n",
    "input_audio_path = '../test_audio/bus/bus-barcelona-210-6387-0-b.wav' \n",
    "output_image_path = 'output_image.png'  \n",
    "\n",
    "y, sr = librosa.load(input_audio_path, sr=32000, mono=True)\n",
    "\n",
    "stft = librosa.stft(y, n_fft=4096, win_length=3072, hop_length=500)\n",
    "mel = librosa.feature.melspectrogram(S=np.abs(stft)**2, sr=sr, n_mels=256)\n",
    "log_mel = librosa.power_to_db(mel)\n",
    "\n",
    "# Plot and save spectrogram image \n",
    "plt.figure(figsize=(2.24, 2.24), dpi=100)\n",
    "plt.axis('off')\n",
    "librosa.display.specshow(log_mel, sr=sr, hop_length=500, cmap='viridis', x_axis=None, y_axis=None)\n",
    "\n",
    "plt.savefig(output_image_path, bbox_inches='tight', pad_inches=0)\n",
    "plt.close()\n",
    "\n",
    "print(f\"Spectrogram saved to {output_image_path}\")\n"
   ]
  },
  {
   "cell_type": "code",
   "execution_count": null,
   "id": "f50a5769",
   "metadata": {},
   "outputs": [],
   "source": []
  }
 ],
 "metadata": {
  "kernelspec": {
   "display_name": "Python 3",
   "language": "python",
   "name": "python3"
  },
  "language_info": {
   "codemirror_mode": {
    "name": "ipython",
    "version": 3
   },
   "file_extension": ".py",
   "mimetype": "text/x-python",
   "name": "python",
   "nbconvert_exporter": "python",
   "pygments_lexer": "ipython3",
   "version": "3.12.0"
  }
 },
 "nbformat": 4,
 "nbformat_minor": 5
}
